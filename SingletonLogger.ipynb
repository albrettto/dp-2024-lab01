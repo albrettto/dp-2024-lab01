{
 "cells": [
  {
   "cell_type": "code",
   "id": "initial_id",
   "metadata": {
    "collapsed": true,
    "ExecuteTime": {
     "end_time": "2024-10-16T06:38:39.933790Z",
     "start_time": "2024-10-16T06:38:39.926738Z"
    }
   },
   "source": [
    "import threading\n",
    "import os\n",
    "from datetime import datetime"
   ],
   "outputs": [],
   "execution_count": 29
  },
  {
   "metadata": {
    "ExecuteTime": {
     "end_time": "2024-10-16T06:38:39.974699Z",
     "start_time": "2024-10-16T06:38:39.965793Z"
    }
   },
   "cell_type": "code",
   "source": [
    "class Singleton:\n",
    "    _instance = None\n",
    "    _lock = threading.Lock()\n",
    "\n",
    "    def __new__(cls, *args, **kwargs):\n",
    "        if cls._instance is None:\n",
    "            with cls._lock:\n",
    "                if cls._instance is None:\n",
    "                    cls._instance = super(Singleton, cls).__new__(cls)\n",
    "        return cls._instance\n"
   ],
   "id": "d03daadd9118af44",
   "outputs": [],
   "execution_count": 30
  },
  {
   "metadata": {
    "ExecuteTime": {
     "end_time": "2024-10-16T06:38:40.005580Z",
     "start_time": "2024-10-16T06:38:39.994098Z"
    }
   },
   "cell_type": "code",
   "source": [
    "class Logger(Singleton):\n",
    "    def __init__(self, file_path):\n",
    "        \"\"\"Инициализация логгера: создание файла и настройка формата лога\"\"\"\n",
    "        self._create_file(file_path)  \n",
    "\n",
    "    def _create_file(self, file_path):\n",
    "        timestamp = datetime.now().strftime(\"%Y-%m-%d.%H-%M-%S\")\n",
    "        log_filename = f\"DP.P1.{timestamp}.log\"\n",
    "        \n",
    "        self.log_file_path = os.path.join(file_path, log_filename)\n",
    "\n",
    "        # Создаем новый файл или очищаем существующий\n",
    "        with open(self.log_file_path, \"w\"):\n",
    "            pass\n",
    "        \n",
    "    def _format_message(self, level: str, message: str) -> str:\n",
    "        \"\"\"Форматирует сообщение с добавлением времени и уровня лога\"\"\"\n",
    "        current_time = datetime.now().strftime(\"%Y-%m-%d %H:%M:%S\")\n",
    "        return f\"{current_time} [{level}] {message}\"\n",
    "\n",
    "    def log(self, level: str, message: str):\n",
    "        \"\"\"Запись сообщения в файл\"\"\"\n",
    "        formatted_message = self._format_message(level, message)\n",
    "        with self._lock:\n",
    "            with open(self.log_file_path, \"a\") as log_file:\n",
    "                log_file.write(formatted_message + \"\\n\")"
   ],
   "id": "5367759746ddff37",
   "outputs": [],
   "execution_count": 31
  },
  {
   "metadata": {
    "ExecuteTime": {
     "end_time": "2024-10-16T06:38:40.050777Z",
     "start_time": "2024-10-16T06:38:40.038155Z"
    }
   },
   "cell_type": "code",
   "source": [
    "# Пример использования:\n",
    "if __name__ == \"__main__\":\n",
    "    logger = Logger(\"C:\\\\Users\\\\ahusa\\\\PycharmProjects\\\\dp-2024-lab01\")\n",
    "    logger.log(\"INFO\", \"Application started successfully\")\n",
    "    logger.log(\"ERROR\", \"An error occurred\")\n",
    "    logger.log(\"WARN\", \"Warning message\")"
   ],
   "id": "8c654778f930a888",
   "outputs": [],
   "execution_count": 32
  }
 ],
 "metadata": {
  "kernelspec": {
   "display_name": "Python 3",
   "language": "python",
   "name": "python3"
  },
  "language_info": {
   "codemirror_mode": {
    "name": "ipython",
    "version": 2
   },
   "file_extension": ".py",
   "mimetype": "text/x-python",
   "name": "python",
   "nbconvert_exporter": "python",
   "pygments_lexer": "ipython2",
   "version": "2.7.6"
  }
 },
 "nbformat": 4,
 "nbformat_minor": 5
}
