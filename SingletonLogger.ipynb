{
 "cells": [
  {
   "cell_type": "code",
   "id": "initial_id",
   "metadata": {
    "collapsed": true,
    "ExecuteTime": {
     "end_time": "2024-10-15T21:07:25.254737Z",
     "start_time": "2024-10-15T21:07:25.251120Z"
    }
   },
   "source": [
    "import threading\n",
    "import os\n",
    "from datetime import datetime"
   ],
   "outputs": [],
   "execution_count": 1
  },
  {
   "metadata": {
    "ExecuteTime": {
     "end_time": "2024-10-15T21:07:25.267808Z",
     "start_time": "2024-10-15T21:07:25.260395Z"
    }
   },
   "cell_type": "code",
   "source": [
    "class Singleton:\n",
    "    _instance = None\n",
    "    _lock = threading.Lock()\n",
    "\n",
    "    def __new__(cls, *args, **kwargs):\n",
    "        if cls._instance is None:\n",
    "            with cls._lock:\n",
    "                if cls._instance is None:\n",
    "                    cls._instance = super(Singleton, cls).__new__(cls)\n",
    "                    cls._instance._initialize(*args, **kwargs)\n",
    "        return cls._instance\n",
    "\n",
    "    def _initialize(self, *args, **kwargs):\n",
    "        \"\"\"Метод для инициализации потомков. Может быть переопределен в дочерних классах.\"\"\"\n",
    "        pass\n"
   ],
   "id": "d03daadd9118af44",
   "outputs": [],
   "execution_count": 2
  },
  {
   "metadata": {
    "ExecuteTime": {
     "end_time": "2024-10-15T21:07:25.331065Z",
     "start_time": "2024-10-15T21:07:25.326483Z"
    }
   },
   "cell_type": "code",
   "source": [
    "class Logger(Singleton):\n",
    "    def _initialize(self):\n",
    "        \"\"\"Инициализация логгера: создание файла и настройка формата лога\"\"\"\n",
    "        timestamp = datetime.now().strftime(\"%Y-%m-%d.%H-%M-%S\")\n",
    "        log_filename = f\"DP.P1.{timestamp}.log\"\n",
    "        self.log_file_path = os.path.join(os.getcwd(), log_filename)\n",
    "\n",
    "        # Создаем новый файл или очищаем существующий\n",
    "        with open(self.log_file_path, \"w\"):\n",
    "            pass\n",
    "\n",
    "    def _format_message(self, level: str, message: str) -> str:\n",
    "        \"\"\"Форматирует сообщение с добавлением времени и уровня лога\"\"\"\n",
    "        current_time = datetime.now().strftime(\"%Y-%m-%d %H:%M:%S\")\n",
    "        return f\"{current_time} [{level}] {message}\"\n",
    "\n",
    "    def log(self, level: str, message: str):\n",
    "        \"\"\"Запись сообщения в файл\"\"\"\n",
    "        formatted_message = self._format_message(level, message)\n",
    "        with self._lock:\n",
    "            with open(self.log_file_path, \"a\") as log_file:\n",
    "                log_file.write(formatted_message + \"\\n\")"
   ],
   "id": "5367759746ddff37",
   "outputs": [],
   "execution_count": 3
  },
  {
   "metadata": {
    "ExecuteTime": {
     "end_time": "2024-10-15T21:07:25.341373Z",
     "start_time": "2024-10-15T21:07:25.337259Z"
    }
   },
   "cell_type": "code",
   "source": [
    "# Пример использования:\n",
    "if __name__ == \"__main__\":\n",
    "    logger = Logger()\n",
    "    logger.log(\"INFO\", \"Application started successfully\")\n",
    "    logger.log(\"ERROR\", \"An error occurred\")\n",
    "    logger.log(\"WARN\", \"Warning message\")"
   ],
   "id": "8c654778f930a888",
   "outputs": [],
   "execution_count": 4
  }
 ],
 "metadata": {
  "kernelspec": {
   "display_name": "Python 3",
   "language": "python",
   "name": "python3"
  },
  "language_info": {
   "codemirror_mode": {
    "name": "ipython",
    "version": 2
   },
   "file_extension": ".py",
   "mimetype": "text/x-python",
   "name": "python",
   "nbconvert_exporter": "python",
   "pygments_lexer": "ipython2",
   "version": "2.7.6"
  }
 },
 "nbformat": 4,
 "nbformat_minor": 5
}
